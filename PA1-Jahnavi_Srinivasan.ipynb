{
 "cells": [
  {
   "cell_type": "markdown",
   "metadata": {},
   "source": [
    "# Programming Assignment 1\n",
    "* CSCI-4930/5930 ML Spring 2019\n",
    "* Author: Jahnavi Srinivasan"
   ]
  },
  {
   "cell_type": "markdown",
   "metadata": {},
   "source": [
    "## Tasks for everyone (Tasks 1-15)"
   ]
  },
  {
   "cell_type": "markdown",
   "metadata": {},
   "source": [
    "### TASK 1: Import all the necessary packages here\n"
   ]
  },
  {
   "cell_type": "code",
   "execution_count": 1,
   "metadata": {},
   "outputs": [],
   "source": [
    "import pandas as pd\n",
    "import seaborn as sns\n",
    "import matplotlib.pyplot as plt\n",
    "import numpy as np\n",
    "from sklearn.model_selection import train_test_split\n",
    "from sklearn.preprocessing import StandardScaler\n",
    "from scipy.stats import norm\n",
    "\n",
    "np.random.seed(45) "
   ]
  },
  {
   "cell_type": "markdown",
   "metadata": {},
   "source": [
    "### TASK 2: Load the dataset into memory so that you can play with it here"
   ]
  },
  {
   "cell_type": "code",
   "execution_count": 2,
   "metadata": {},
   "outputs": [
    {
     "name": "stdout",
     "output_type": "stream",
     "text": [
      "Index(['ID', 'SEX', 'MARITAL', 'FAGE', 'GAINED', 'VISITS', 'MAGE', 'FEDUC',\n",
      "       'MEDUC', 'TOTALP', 'BDEAD', 'TERMS', 'LOUTCOME', 'WEEKS', 'RACEMOM',\n",
      "       'RACEDAD', 'HISPMOM', 'HISPDAD', 'CIGNUM', 'DRINKNUM', 'ANEMIA',\n",
      "       'CARDIAC', 'ACLUNG', 'DIABETES', 'HERPES', 'HYDRAM', 'HEMOGLOB',\n",
      "       'HYPERCH', 'HYPERPR', 'ECLAMP', 'CERVIX', 'PINFANT', 'PRETERM', 'RENAL',\n",
      "       'RHSEN', 'UTERINE', 'BWEIGHT'],\n",
      "      dtype='object') (101400, 37) 37\n"
     ]
    }
   ],
   "source": [
    "#bring in the six packs\n",
    "inputData = pd.read_csv('baby-weights-dataset.csv')\n",
    "print (inputData.columns, inputData.shape, len(inputData.columns))"
   ]
  },
  {
   "cell_type": "markdown",
   "metadata": {},
   "source": [
    "### TASK 3: Compute mean, stdev, min, max, 25% percentile, median and 75% percentile of the dataset (BWEIGHT variable)"
   ]
  },
  {
   "cell_type": "code",
   "execution_count": 3,
   "metadata": {},
   "outputs": [
    {
     "data": {
      "text/plain": [
       "count    101400.000000\n",
       "mean          7.258066\n",
       "std           1.329461\n",
       "min           0.187500\n",
       "25%           6.625000\n",
       "50%           7.375000\n",
       "75%           8.062500\n",
       "max          13.062500\n",
       "Name: BWEIGHT, dtype: float64"
      ]
     },
     "execution_count": 3,
     "metadata": {},
     "output_type": "execute_result"
    }
   ],
   "source": [
    "inputData['BWEIGHT'].describe()"
   ]
  },
  {
   "cell_type": "markdown",
   "metadata": {},
   "source": [
    "### TASK 4: Also, draw the histogram plot for the BWEIGHT variable\n"
   ]
  },
  {
   "cell_type": "code",
   "execution_count": 299,
   "metadata": {},
   "outputs": [
    {
     "name": "stderr",
     "output_type": "stream",
     "text": [
      "C:\\Users\\Jahnasri\\Anaconda3\\lib\\site-packages\\matplotlib\\axes\\_axes.py:6462: UserWarning: The 'normed' kwarg is deprecated, and has been replaced by the 'density' kwarg.\n",
      "  warnings.warn(\"The 'normed' kwarg is deprecated, and has been \"\n"
     ]
    },
    {
     "data": {
      "image/png": "[encoded data removed]",
      "text/plain": [
       "<Figure size 432x288 with 1 Axes>"
      ]
     },
     "metadata": {},
     "output_type": "display_data"
    }
   ],
   "source": [
    "sns.distplot(inputData['BWEIGHT']);"
   ]
  },
  {
   "cell_type": "markdown",
   "metadata": {},
   "source": [
    "### TASK 5: Present the skewness and kurtosis of the BWEIGHT target variable"
   ]
  },
  {
   "cell_type": "code",
   "execution_count": 300,
   "metadata": {},
   "outputs": [
    {
     "name": "stdout",
     "output_type": "stream",
     "text": [
      "Skewness: -0.936593\n",
      "Kurtosis: 2.868780\n",
      "\n",
      "Given data is Moderately skewed and Platykurtic (lack of outliers)\n"
     ]
    }
   ],
   "source": [
    "#skewness and kurtosis\n",
    "print(\"Skewness: %f\" % inputData['BWEIGHT'].skew())\n",
    "print(\"Kurtosis: %f\" % inputData['BWEIGHT'].kurt())\n",
    "print(\"\\nGiven data is Moderately skewed and Platykurtic (lack of outliers)\")"
   ]
  },
  {
   "cell_type": "markdown",
   "metadata": {},
   "source": [
    "### TASK 8: Tackle the dummy categorical variables by introducing dummy variables"
   ]
  },
  {
   "cell_type": "code",
   "execution_count": 301,
   "metadata": {},
   "outputs": [
    {
     "name": "stdout",
     "output_type": "stream",
     "text": [
      "     ID  SEX  MARITAL  FAGE  GAINED  VISITS  MAGE  FEDUC  MEDUC  TOTALP  \\\n",
      "0  2001    2        1    33      26      10    34     12      4       2   \n",
      "1  2002    2        2    19      40      10    18     11     12       1   \n",
      "2  2003    2        1    33      16      14    31     16     16       2   \n",
      "3  2004    1        1    25      40      15    28     12     12       3   \n",
      "4  2005    1        2    21      60      13    20     12     14       2   \n",
      "\n",
      "    ...     HYPERCH  HYPERPR  ECLAMP  CERVIX  PINFANT  PRETERM RENAL RHSEN  \\\n",
      "0   ...           0        0       0       0        0        0     0     0   \n",
      "1   ...           0        0       0       0        0        0     0     0   \n",
      "2   ...           0        0       0       0        0        0     0     0   \n",
      "3   ...           0        0       0       0        0        0     0     0   \n",
      "4   ...           0        1       0       0        0        0     0     0   \n",
      "\n",
      "   UTERINE  BWEIGHT  \n",
      "0        0   4.3750  \n",
      "1        0   6.9375  \n",
      "2        0   8.5000  \n",
      "3        0   8.5000  \n",
      "4        0   9.0000  \n",
      "\n",
      "[5 rows x 37 columns]\n"
     ]
    }
   ],
   "source": [
    "print(inputData.head())"
   ]
  },
  {
   "cell_type": "code",
   "execution_count": 4,
   "metadata": {},
   "outputs": [
    {
     "name": "stdout",
     "output_type": "stream",
     "text": [
      "(101400, 36)\n",
      "(101399, 36)\n"
     ]
    }
   ],
   "source": [
    "inputData.drop('ID', axis=1, inplace=True)\n",
    "\n",
    "print(inputData.shape)\n",
    "indexNames = inputData[ inputData['SEX'] == 9 ].index\n",
    " \n",
    "# Delete these row indexes from dataFrame\n",
    "inputData.drop(indexNames , inplace=True)\n",
    "print(inputData.shape)"
   ]
  },
  {
   "cell_type": "code",
   "execution_count": 303,
   "metadata": {},
   "outputs": [
    {
     "name": "stdout",
     "output_type": "stream",
     "text": [
      "   SEX  MARITAL  FAGE  GAINED  VISITS  MAGE  FEDUC  MEDUC  TOTALP  BDEAD  \\\n",
      "0    2        1    33      26      10    34     12      4       2      0   \n",
      "1    2        2    19      40      10    18     11     12       1      0   \n",
      "2    2        1    33      16      14    31     16     16       2      0   \n",
      "3    1        1    25      40      15    28     12     12       3      0   \n",
      "4    1        2    21      60      13    20     12     14       2      0   \n",
      "\n",
      "    ...     HYPERCH  HYPERPR  ECLAMP  CERVIX  PINFANT PRETERM RENAL  RHSEN  \\\n",
      "0   ...           0        0       0       0        0       0     0      0   \n",
      "1   ...           0        0       0       0        0       0     0      0   \n",
      "2   ...           0        0       0       0        0       0     0      0   \n",
      "3   ...           0        0       0       0        0       0     0      0   \n",
      "4   ...           0        1       0       0        0       0     0      0   \n",
      "\n",
      "   UTERINE  BWEIGHT  \n",
      "0        0   4.3750  \n",
      "1        0   6.9375  \n",
      "2        0   8.5000  \n",
      "3        0   8.5000  \n",
      "4        0   9.0000  \n",
      "\n",
      "[5 rows x 36 columns]\n",
      "   FAGE  GAINED  VISITS  MAGE  FEDUC  MEDUC  TOTALP  BDEAD  TERMS  LOUTCOME  \\\n",
      "0    33      26      10    34     12      4       2      0      0         1   \n",
      "1    19      40      10    18     11     12       1      0      0         9   \n",
      "2    33      16      14    31     16     16       2      0      0         1   \n",
      "3    25      40      15    28     12     12       3      0      0         1   \n",
      "4    21      60      13    20     12     14       2      0      0         1   \n",
      "\n",
      "     ...      RACEMOM_1  RACEMOM_2  RACEMOM_3  RACEMOM_4  RACEMOM_5  \\\n",
      "0    ...              1          0          0          0          0   \n",
      "1    ...              1          0          0          0          0   \n",
      "2    ...              1          0          0          0          0   \n",
      "3    ...              0          0          0          0          0   \n",
      "4    ...              0          1          0          0          0   \n",
      "\n",
      "   RACEMOM_6  RACEMOM_7  RACEMOM_8  SEX_2  MARITAL_2  \n",
      "0          0          0          0      1          0  \n",
      "1          0          0          0      1          1  \n",
      "2          0          0          0      1          0  \n",
      "3          0          0          1      0          0  \n",
      "4          0          0          0      0          1  \n",
      "\n",
      "[5 rows x 63 columns]\n"
     ]
    }
   ],
   "source": [
    "print(inputData.head())\n",
    "\n",
    "inputData = pd.get_dummies(inputData, columns=['HISPMOM', 'HISPDAD', 'RACEDAD', 'RACEMOM', 'SEX', 'MARITAL'], \n",
    "                           prefix = ['HISPMOM', 'HISPDAD', 'RACEDAD', 'RACEMOM', 'SEX', 'MARITAL'])\n",
    "inputData.drop('RACEDAD_0', axis=1, inplace=True)\n",
    "inputData.drop('RACEMOM_0', axis=1, inplace=True)\n",
    "inputData.drop('SEX_1', axis=1, inplace=True)\n",
    "inputData.drop('MARITAL_1', axis=1, inplace=True)\n",
    "\n",
    "print(inputData.head())"
   ]
  },
  {
   "cell_type": "markdown",
   "metadata": {},
   "source": [
    "### TASK 6: Do variable selection from the pool of 36 variables based on correlation score with the target variable BWEIGHT \n",
    "### Please report all the variables you kept for training."
   ]
  },
  {
   "cell_type": "code",
   "execution_count": 304,
   "metadata": {},
   "outputs": [
    {
     "name": "stdout",
     "output_type": "stream",
     "text": [
      "BWEIGHT      1.000000\n",
      "WEEKS        0.565335\n",
      "GAINED       0.173249\n",
      "RACEMOM_1    0.157066\n",
      "RACEDAD_1    0.150841\n",
      "VISITS       0.129548\n",
      "MAGE         0.068451\n",
      "Name: BWEIGHT, dtype: float64\n",
      "RACEMOM_2   -0.151643\n",
      "RACEDAD_2   -0.141757\n",
      "HYPERPR     -0.108551\n",
      "MARITAL_2   -0.107127\n",
      "SEX_2       -0.093156\n",
      "CIGNUM      -0.090679\n",
      "PRETERM     -0.072937\n",
      "Name: BWEIGHT, dtype: float64\n"
     ]
    }
   ],
   "source": [
    "k = 7 #number of variables for heatmap\n",
    "corrmat = inputData.corr()\n",
    "cols = corrmat.nlargest(k, 'BWEIGHT')['BWEIGHT']\n",
    "\n",
    "sm_cols = corrmat.nsmallest(k, 'BWEIGHT')['BWEIGHT']\n",
    "print(cols)\n",
    "print(sm_cols)"
   ]
  },
  {
   "cell_type": "code",
   "execution_count": 305,
   "metadata": {},
   "outputs": [
    {
     "name": "stdout",
     "output_type": "stream",
     "text": [
      "WEEKS        0.565335\n",
      "GAINED       0.173249\n",
      "RACEMOM_1    0.157066\n",
      "RACEDAD_1    0.150841\n",
      "VISITS       0.129548\n",
      "MAGE         0.068451\n",
      "PINFANT      0.067074\n",
      "Name: BWEIGHT, dtype: float64\n",
      "RACEMOM_2   -0.151643\n",
      "RACEDAD_2   -0.141757\n",
      "HYPERPR     -0.108551\n",
      "MARITAL_2   -0.107127\n",
      "SEX_2       -0.093156\n",
      "CIGNUM      -0.090679\n",
      "PRETERM     -0.072937\n",
      "Name: BWEIGHT, dtype: float64\n",
      "Plot for postive correlation \n",
      " ===========================\n"
     ]
    },
    {
     "data": {
      "image/png": "[encoded data removed]",
      "text/plain": [
       "<Figure size 1800x1800 with 2 Axes>"
      ]
     },
     "metadata": {},
     "output_type": "display_data"
    },
    {
     "name": "stdout",
     "output_type": "stream",
     "text": [
      "Plot for negative correlation \n",
      " ===========================\n"
     ]
    },
    {
     "data": {
      "image/png": "[encoded data removed]",
      "text/plain": [
       "<Figure size 1800x1800 with 2 Axes>"
      ]
     },
     "metadata": {},
     "output_type": "display_data"
    }
   ],
   "source": [
    "k = 7 #number of variables for heatmap\n",
    "corrmat = inputData.corr()\n",
    "cols = corrmat.nlargest(k + 1, 'BWEIGHT')['BWEIGHT'][1:]\n",
    "sm_cols = corrmat.nsmallest(k, 'BWEIGHT')['BWEIGHT']\n",
    "print(cols)\n",
    "print(sm_cols)\n",
    "\n",
    "cols= cols.index\n",
    "sm_cols = sm_cols.index\n",
    "\n",
    "f, ax = plt.subplots(figsize=(25, 25))\n",
    "print(\"Plot for postive correlation \\n ===========================\")\n",
    "cm = np.corrcoef(inputData[cols].values.T)\n",
    "sns.set(font_scale=2)\n",
    "hm = sns.heatmap(cm, cbar=True, annot=True, square=True, fmt='.3f', annot_kws={'size': 10}, yticklabels=cols.values, xticklabels=cols.values)\n",
    "plt.show()\n",
    "\n",
    "print(\"Plot for negative correlation \\n ===========================\")\n",
    "f, ax = plt.subplots(figsize=(25, 25))\n",
    "cm = np.corrcoef(inputData[sm_cols].values.T)\n",
    "sns.set(font_scale=2)\n",
    "hm = sns.heatmap(cm, cbar=True, annot=True, square=True, fmt='.3f', annot_kws={'size': 10}, \n",
    "                 yticklabels=sm_cols.values, xticklabels=sm_cols.values)\n",
    "plt.show()"
   ]
  },
  {
   "cell_type": "code",
   "execution_count": 306,
   "metadata": {},
   "outputs": [
    {
     "name": "stdout",
     "output_type": "stream",
     "text": [
      "Index(['BWEIGHT'], dtype='object')\n"
     ]
    }
   ],
   "source": [
    "y_col = corrmat.nlargest(1, 'BWEIGHT')['BWEIGHT']\n",
    "print(y_col.index)"
   ]
  },
  {
   "cell_type": "code",
   "execution_count": 307,
   "metadata": {},
   "outputs": [
    {
     "name": "stdout",
     "output_type": "stream",
     "text": [
      "(101399, 15)\n"
     ]
    }
   ],
   "source": [
    "inputData = inputData[cols.append(sm_cols).append(y_col.index)]\n",
    "#inputData = inputData[cols.append(y_col.index)]\n",
    "print(inputData.shape)"
   ]
  },
  {
   "cell_type": "markdown",
   "metadata": {},
   "source": [
    "### TASK 7: Check for missing data, and apply a \"good\" strategy to tackle it"
   ]
  },
  {
   "cell_type": "code",
   "execution_count": 308,
   "metadata": {},
   "outputs": [
    {
     "name": "stdout",
     "output_type": "stream",
     "text": [
      "There is no missing data problem in the given dataset\n",
      "           Total  Percent\n",
      "BWEIGHT        0      0.0\n",
      "PRETERM        0      0.0\n",
      "CIGNUM         0      0.0\n",
      "SEX_2          0      0.0\n",
      "MARITAL_2      0      0.0\n",
      "HYPERPR        0      0.0\n",
      "RACEDAD_2      0      0.0\n",
      "RACEMOM_2      0      0.0\n",
      "PINFANT        0      0.0\n",
      "MAGE           0      0.0\n",
      "VISITS         0      0.0\n",
      "RACEDAD_1      0      0.0\n",
      "RACEMOM_1      0      0.0\n",
      "GAINED         0      0.0\n",
      "WEEKS          0      0.0\n"
     ]
    }
   ],
   "source": [
    "total = inputData.isnull().sum().sort_values(ascending=False)\n",
    "percent = (inputData.isnull().sum()/inputData.isnull().count()).sort_values(ascending=False)\n",
    "missing_data = pd.concat([total, percent], axis=1, keys=['Total', 'Percent'])\n",
    "print(\"There is no missing data problem in the given dataset\");\n",
    "print(missing_data.head(20))"
   ]
  },
  {
   "cell_type": "markdown",
   "metadata": {},
   "source": [
    "### TASK 9.1: Randomly split the dataset into training, Tr (80%) and testing, Te (20%)"
   ]
  },
  {
   "cell_type": "code",
   "execution_count": 320,
   "metadata": {},
   "outputs": [
    {
     "name": "stdout",
     "output_type": "stream",
     "text": [
      "(101399, 14) (101399,) (81119, 14) (20280, 14) (81119,) (20280,)\n"
     ]
    }
   ],
   "source": [
    "X = inputData[inputData.loc[:, inputData.columns != 'BWEIGHT'].columns]\n",
    "y = inputData['BWEIGHT']\n",
    "X_train, X_test, y_train, y_test = train_test_split(X, y, test_size=.2, random_state=1)\n",
    "print(X.shape, y.shape, X_train.shape, X_test.shape, y_train.shape, y_test.shape)"
   ]
  },
  {
   "cell_type": "markdown",
   "metadata": {},
   "source": [
    "### TASK 9.2: On the training dataset, apply a normalization technique"
   ]
  },
  {
   "cell_type": "code",
   "execution_count": 321,
   "metadata": {},
   "outputs": [],
   "source": [
    "sc = StandardScaler()\n",
    "X_train = sc.fit_transform(X_train, y_train);"
   ]
  },
  {
   "cell_type": "markdown",
   "metadata": {},
   "source": [
    "### TASK 9.3: Apply the training data statistics to normalize the testing data as well."
   ]
  },
  {
   "cell_type": "code",
   "execution_count": 322,
   "metadata": {},
   "outputs": [],
   "source": [
    "X_test = sc.fit_transform(X_test, y_test)"
   ]
  },
  {
   "cell_type": "markdown",
   "metadata": {},
   "source": [
    "### TASK 10: Find the linear regression function describing the training dataset using a technique you recently learned in class.  CLOSED-FORM vs. Gradient Descent (batch or stochastic or mini-batch).\n",
    "###          PLEASE DO NOT CALL ANY LIBRARY FUNCTION THAT MIGHT DO THE TASK FOR YOU. If you do, you are most likely get a ZERO for this assignment."
   ]
  },
  {
   "cell_type": "markdown",
   "metadata": {},
   "source": [
    "Choosing batch gradient as the 'n' is large : 101400\n",
    "And due to high computational complexity in case of other functions (stochastic and mini-batch)"
   ]
  },
  {
   "cell_type": "code",
   "execution_count": 323,
   "metadata": {},
   "outputs": [],
   "source": [
    " def cost_function(X, y, w):\n",
    "    m = len(y)\n",
    "    J = np.sum((X.dot(w) - y) ** 2)/(2 * m)\n",
    "    return J\n",
    "\n",
    "def gradient_descent(X, Y, w, alpha, num_iters):\n",
    "    cost_history = [0] * num_iters\n",
    "    m = len(Y)\n",
    "    \n",
    "    for iteration in range(num_iters):\n",
    "        y_pred = X.dot(w)\n",
    "        \n",
    "        # Difference b/w Hypothesis and Actual Y\n",
    "        loss = y_pred - Y\n",
    "        \n",
    "        #adjust w\n",
    "        w = w - alpha * (X.T.dot(loss) / m)\n",
    "        \n",
    "        # Cost  values update\n",
    "        cost = cost_function(X, Y, w)\n",
    "        cost_history[iteration] = cost\n",
    "        \n",
    "    return w, cost_history"
   ]
  },
  {
   "cell_type": "code",
   "execution_count": 324,
   "metadata": {},
   "outputs": [
    {
     "name": "stdout",
     "output_type": "stream",
     "text": [
      "[0.62156501 0.26406347 0.87608304 0.58229735 0.40421822 0.27488754\n",
      " 0.46690065 0.18853796 0.29757697 0.42382995 0.23906894 0.33991652\n",
      " 0.72717003 0.06171129]\n",
      "28.089459004340092\n"
     ]
    }
   ],
   "source": [
    "#initializing the model\n",
    "w = np.random.rand(14)\n",
    "alpha = 0.0001\n",
    "W, cost_history = gradient_descent(X_train, y_train, w, alpha, 1000)\n",
    "\n",
    "# New Values of coeffiecnets\n",
    "print(W)\n",
    "\n",
    "# Final Cost of new B\n",
    "print(cost_history[-1])"
   ]
  },
  {
   "cell_type": "markdown",
   "metadata": {},
   "source": [
    "### Task 11: Predict BWEIGHT target variable for each of the testing dataset using the regression line you learned in Task 10, and report RMSE(testing) (Root Mean Squared Error)"
   ]
  },
  {
   "cell_type": "code",
   "execution_count": 326,
   "metadata": {},
   "outputs": [
    {
     "data": {
      "text/plain": [
       "7.482796805696532"
      ]
     },
     "execution_count": 326,
     "metadata": {},
     "output_type": "execute_result"
    }
   ],
   "source": [
    "def rmse(Y, Y_pred):\n",
    "    rmse = np.sqrt(sum((Y - Y_pred) ** 2) / len(Y))\n",
    "    return rmse\n",
    "\n",
    "\n",
    "Y_pred = X_test.dot(W)\n",
    "rmse(y_test, Y_pred)"
   ]
  },
  {
   "cell_type": "code",
   "execution_count": null,
   "metadata": {},
   "outputs": [],
   "source": [
    "Y_test_pred = X_test.dot(W)"
   ]
  },
  {
   "cell_type": "code",
   "execution_count": null,
   "metadata": {},
   "outputs": [],
   "source": [
    "rmse0 =rmse(y_test, Y_test_pred)\n",
    "print(rmse0)"
   ]
  },
  {
   "cell_type": "markdown",
   "metadata": {},
   "source": [
    "### Repeat TASK 10 additional four times : Run linear regression training again\n",
    "### After each run, Report RMSE(testing)\n"
   ]
  },
  {
   "cell_type": "code",
   "execution_count": 255,
   "metadata": {},
   "outputs": [
    {
     "name": "stdout",
     "output_type": "stream",
     "text": [
      "7.510135665971286\n",
      "7.326969084855983\n",
      "7.5412412267082765\n",
      "7.325509753154213\n"
     ]
    }
   ],
   "source": [
    "w = np.random.rand(14)\n",
    "W1, cost_history= gradient_descent(X_train, y_train, w, .0001, 100);\n",
    "Y_test_pred = X_test.dot(W1)\n",
    "rmse1 = rmse(y_test, Y_test_pred)\n",
    "print(rmse1)\n",
    "\n",
    "w = np.random.rand(14)\n",
    "W2, cost_history= gradient_descent(X_train, y_train, w, .005, 1000);\n",
    "Y_test_pred = X_test.dot(W2)\n",
    "rmse2 = rmse(y_test, Y_test_pred)\n",
    "print(rmse2)\n",
    "\n",
    "#w = np.random.rand(14)\n",
    "W3,cost_history = gradient_descent(X_train, y_train, w, .0001, 500);\n",
    "Y_test_pred = X_test.dot(W3)\n",
    "rmse3 = rmse(y_test, Y_test_pred)\n",
    "print(rmse3)\n",
    "\n",
    "#w = np.random.rand(14)\n",
    "W4,cost_history = gradient_descent(X_train, y_train, w, 0.001, 10000);\n",
    "Y_test_pred = X_test.dot(W4)\n",
    "rmse4 = rmse(y_test, Y_test_pred)\n",
    "print(rmse4)\n",
    "\n"
   ]
  },
  {
   "cell_type": "markdown",
   "metadata": {},
   "source": [
    "### Task 12: Finally, Report RMSE(testing) = Average(RMSE_test) $\\pm$ Stdev(RMSE_test)\n",
    "### Here Average(RMSE_test) = average of all the 5 RMSE(testing) scores you got above.\n",
    "### And, stdev(RMSE_test) = standard deviation of all the 5 RMSE(testing) scores above."
   ]
  },
  {
   "cell_type": "code",
   "execution_count": 257,
   "metadata": {},
   "outputs": [
    {
     "name": "stdout",
     "output_type": "stream",
     "text": [
      "7.4120829203888166\n",
      "0.09393445302337397\n"
     ]
    }
   ],
   "source": [
    "avgRMSE = (rmse0 + rmse1 + rmse2  + rmse3 + rmse4)/ 5\n",
    "print(avgRMSE);\n",
    "\n",
    "sdRMSE = np.std([rmse0 , rmse1 , rmse2 , rmse3 , rmse4])\n",
    "print(sdRMSE);\n"
   ]
  },
  {
   "cell_type": "markdown",
   "metadata": {},
   "source": [
    "### Task 13: Run linear regression one last time on the whole dataset  (i.e, training+testing which is preprocessed by you above)."
   ]
  },
  {
   "cell_type": "code",
   "execution_count": 277,
   "metadata": {},
   "outputs": [],
   "source": [
    "X = np.vstack((X_train, X_test))\n",
    "y = y_train.append(y_test)\n",
    "X.shape, y.shape\n",
    "\n",
    "W_whole, _ = gradient_descent(X, y, w, .005, 1000);\n"
   ]
  },
  {
   "cell_type": "markdown",
   "metadata": {},
   "source": [
    "### Task 14: Preprocess the judge-without-label.csv file according টo the strategy you applied above on the whole dataset (task 13)"
   ]
  },
  {
   "cell_type": "code",
   "execution_count": 274,
   "metadata": {},
   "outputs": [
    {
     "name": "stdout",
     "output_type": "stream",
     "text": [
      "(2001, 35)\n",
      "(2001, 35)\n",
      "   FAGE  GAINED  VISITS  MAGE  FEDUC  MEDUC  TOTALP  BDEAD  TERMS  LOUTCOME  \\\n",
      "0    30      70      11    26     14     16       4      0      3         9   \n",
      "1    21      36      15    18      9     12       1      0      0         9   \n",
      "2    22      18      10    25     12     12       5      0      3         2   \n",
      "3    24      25      10    22     12     11       4      0      0         1   \n",
      "4    24      38      15    26     12     12       1      0      0         9   \n",
      "\n",
      "     ...      RACEMOM_1  RACEMOM_2  RACEMOM_3  RACEMOM_4  RACEMOM_5  \\\n",
      "0    ...              1          0          0          0          0   \n",
      "1    ...              0          0          1          0          0   \n",
      "2    ...              1          0          0          0          0   \n",
      "3    ...              1          0          0          0          0   \n",
      "4    ...              1          0          0          0          0   \n",
      "\n",
      "   RACEMOM_6  RACEMOM_7  RACEMOM_8  SEX_2  MARITAL_2  \n",
      "0          0          0          0      0          0  \n",
      "1          0          0          0      1          1  \n",
      "2          0          0          0      1          0  \n",
      "3          0          0          0      1          0  \n",
      "4          0          0          0      1          0  \n",
      "\n",
      "[5 rows x 57 columns]\n",
      "(2001, 14)\n"
     ]
    }
   ],
   "source": [
    "x_judge = pd.read_csv(\"judge-without-label.csv\")\n",
    "x_judge.drop('ID', axis=1, inplace=True)\n",
    "print(x_judge.shape)\n",
    "indexNames = x_judge[ x_judge['SEX'] == 9 ].index\n",
    " \n",
    "# Delete these row indexes from dataFrame\n",
    "x_judge.drop(indexNames , inplace=True)\n",
    "print(x_judge.shape)\n",
    "x_judge = pd.get_dummies(x_judge, columns=['HISPMOM', 'HISPDAD', 'RACEDAD', 'RACEMOM', 'SEX', 'MARITAL'], prefix = ['HISPMOM', 'HISPDAD', 'RACEDAD', 'RACEMOM', 'SEX', 'MARITAL'])\n",
    "x_judge.drop('RACEDAD_0', axis=1, inplace=True)\n",
    "x_judge.drop('RACEMOM_0', axis=1, inplace=True)\n",
    "x_judge.drop('SEX_1', axis=1, inplace=True)\n",
    "x_judge.drop('MARITAL_1', axis=1, inplace=True)\n",
    "\n",
    "print(x_judge.head())\n",
    "\n",
    "x_judge = x_judge[cols.append(sm_cols)]\n",
    "#inputData = inputData[cols.append(y_col.index)]\n",
    "print(x_judge.shape)\n",
    "\n",
    "x_judge = sc.transform(x_judge)"
   ]
  },
  {
   "cell_type": "markdown",
   "metadata": {},
   "source": [
    "### Task 15: Predict BWEIGHT for each of the samples from the judge-without-label.csv file, and save the results in judge-submission-run-1.csv in the format below. Please change the run number and report what changes you have made in a corresponding file run-1.txt."
   ]
  },
  {
   "cell_type": "code",
   "execution_count": 279,
   "metadata": {},
   "outputs": [
    {
     "data": {
      "text/plain": [
       "array([-0.04604037, -0.88563492, -0.79623861, ...,  0.19780737,\n",
       "       -1.43662161, -1.1709462 ])"
      ]
     },
     "execution_count": 279,
     "metadata": {},
     "output_type": "execute_result"
    }
   ],
   "source": [
    "Y_judge_pred = x_judge.dot(W_whole)\n",
    "Y_judge_pred"
   ]
  },
  {
   "cell_type": "code",
   "execution_count": 292,
   "metadata": {},
   "outputs": [],
   "source": [
    "df = pd.DataFrame(columns=[\"ID\", \"BWEIGHT\"]) # Note that there are now row data inserted.\n",
    "\n",
    "\n",
    "ids = pd.read_csv(\"judge-without-label.csv\")['ID']\n",
    "\n",
    "df[0] = ids\n",
    "df[1] = Y_judge_pred\n",
    "df.to_csv(\"judge-submission-run-1.csv\")\n"
   ]
  },
  {
   "cell_type": "markdown",
   "metadata": {},
   "source": [
    "# Tasks only for CSCI-5930 (Grad) students"
   ]
  },
  {
   "cell_type": "markdown",
   "metadata": {},
   "source": [
    "### Task 16: Repeat tasks 9-12 three times, and report the ultimate RMSE_test average $\\pm$ ultimate RMSE_test stdev"
   ]
  },
  {
   "cell_type": "code",
   "execution_count": null,
   "metadata": {},
   "outputs": [],
   "source": [
    "X_train, X_test, y_train, y_test = train_test_split(X, y, test_size=.2, random_state=1)\n",
    "print(X.shape, y.shape, X_train.shape, X_test.shape, y_train.shape, y_test.shape)\n",
    "\n",
    "sc = StandardScaler()\n",
    "X_train = sc.fit_transform(X_train);\n",
    "\n",
    "X_test = sc.transform(X_test);\n",
    "\n",
    "#initializing the model\n",
    "w = np.random.rand(14)\n",
    "alpha = 0.0001\n",
    "W, cost_history = gradient_descent(X_train, y_train, w, alpha, 1000)\n",
    "\n",
    "# New Values of coeffiecnets\n",
    "print(W)\n",
    "\n",
    "# Final Cost of new B\n",
    "print(cost_history[-1])\n",
    "\n",
    "Y_test_pred = X_test.dot(W)\n",
    "\n",
    "rmse0 =rmse(y_test, Y_test_pred)\n",
    "print(rmse0)\n",
    "\n",
    "w = np.random.rand(14)\n",
    "W1, cost_history= gradient_descent(X_train, y_train, w, .0001, 100);\n",
    "Y_test_pred = X_test.dot(W1)\n",
    "rmse1 = rmse(y_test, Y_test_pred)\n",
    "print(rmse1)\n",
    "\n",
    "w = np.random.rand(14)\n",
    "W2, cost_history= gradient_descent(X_train, y_train, w, .005, 1000);\n",
    "Y_test_pred = X_test.dot(W2)\n",
    "rmse2 = rmse(y_test, Y_test_pred)\n",
    "print(rmse2)\n",
    "\n",
    "w = np.random.rand(14)\n",
    "W3,cost_history = gradient_descent(X_train, y_train, w, .0001, 500);\n",
    "Y_test_pred = X_test.dot(W3)\n",
    "rmse3 = rmse(y_test, Y_test_pred)\n",
    "print(rmse3)\n",
    "\n",
    "w = np.random.rand(14)\n",
    "W4,cost_history = gradient_descent(X_train, y_train, w, 0.001, 10000);\n",
    "Y_test_pred = X_test.dot(W4)\n",
    "rmse4 = rmse(y_test, Y_test_pred)\n",
    "print(rmse4)\n",
    "\n",
    "X = np.vstack((X_train, X_test))\n",
    "y = y_train.append(y_test)\n",
    "X.shape, y.shape\n",
    "\n",
    "avgRMSE = (rmse0 + rmse1 + rmse2  + rmse3 + rmse4)/ 5\n",
    "print(avgRMSE);\n",
    "\n",
    "sdRMSE = np.std([rmse0 , rmse1 , rmse2 , rmse3 , rmse4])\n",
    "print(sdRMSE);\n",
    "\n",
    "\n",
    "W_whole, _ = gradient_descent(X, y, w, .005, 1000);\n",
    "\n"
   ]
  },
  {
   "cell_type": "code",
   "execution_count": 284,
   "metadata": {},
   "outputs": [
    {
     "name": "stdout",
     "output_type": "stream",
     "text": [
      "(101399, 14) (101399,) (81119, 14) (20280, 14) (81119,) (20280,)\n",
      "[0.7392577  0.48003382 0.82407164 0.32922373 0.28929066 0.35246654\n",
      " 0.09238152 0.95042458 0.13690831 0.83527999 0.39967606 0.2667481\n",
      " 0.48336877 0.6687414 ]\n",
      "28.188979697703257\n",
      "7.511147165301205\n",
      "7.631399519850943\n",
      "7.339743941835556\n",
      "7.578120665108139\n",
      "7.336425646963283\n",
      "7.479367387811825\n",
      "0.12149319417111143\n"
     ]
    }
   ],
   "source": [
    "X_train, X_test, y_train, y_test = train_test_split(X, y, test_size=.2, random_state=1)\n",
    "print(X.shape, y.shape, X_train.shape, X_test.shape, y_train.shape, y_test.shape)\n",
    "\n",
    "sc = StandardScaler()\n",
    "X_train = sc.fit_transform(X_train);\n",
    "\n",
    "X_test = sc.transform(X_test);\n",
    "\n",
    "#initializing the model\n",
    "w = np.random.rand(14)\n",
    "alpha = 0.0001\n",
    "W, cost_history = gradient_descent(X_train, y_train, w, alpha, 1000)\n",
    "\n",
    "# New Values of coeffiecnets\n",
    "print(W)\n",
    "\n",
    "# Final Cost of new B\n",
    "print(cost_history[-1])\n",
    "\n",
    "Y_test_pred = X_test.dot(W)\n",
    "\n",
    "rmse0 =rmse(y_test, Y_test_pred)\n",
    "print(rmse0)\n",
    "\n",
    "w = np.random.rand(14)\n",
    "W1, cost_history= gradient_descent(X_train, y_train, w, .0001, 100);\n",
    "Y_test_pred = X_test.dot(W1)\n",
    "rmse1 = rmse(y_test, Y_test_pred)\n",
    "print(rmse1)\n",
    "\n",
    "w = np.random.rand(14)\n",
    "W2, cost_history= gradient_descent(X_train, y_train, w, .005, 1000);\n",
    "Y_test_pred = X_test.dot(W2)\n",
    "rmse2 = rmse(y_test, Y_test_pred)\n",
    "print(rmse2)\n",
    "\n",
    "w = np.random.rand(14)\n",
    "W3,cost_history = gradient_descent(X_train, y_train, w, .0001, 500);\n",
    "Y_test_pred = X_test.dot(W3)\n",
    "rmse3 = rmse(y_test, Y_test_pred)\n",
    "print(rmse3)\n",
    "\n",
    "w = np.random.rand(14)\n",
    "W4,cost_history = gradient_descent(X_train, y_train, w, 0.001, 10000);\n",
    "Y_test_pred = X_test.dot(W4)\n",
    "rmse4 = rmse(y_test, Y_test_pred)\n",
    "print(rmse4)\n",
    "\n",
    "X = np.vstack((X_train, X_test))\n",
    "y = y_train.append(y_test)\n",
    "X.shape, y.shape\n",
    "\n",
    "avgRMSE1 = (rmse0 + rmse1 + rmse2  + rmse3 + rmse4)/ 5\n",
    "print(avgRMSE1);\n",
    "\n",
    "sdRMSE1 = np.std([rmse0 , rmse1 , rmse2 , rmse3 , rmse4])\n",
    "print(sdRMSE1);"
   ]
  },
  {
   "cell_type": "code",
   "execution_count": 285,
   "metadata": {},
   "outputs": [
    {
     "name": "stdout",
     "output_type": "stream",
     "text": [
      "(101399, 14) (101399,) (81119, 14) (20280, 14) (81119,) (20280,)\n",
      "[0.39592197 0.33665037 0.88752044 0.6840752  0.77574589 0.26336364\n",
      " 0.84227628 0.05869957 0.7483443  0.49341309 0.81170627 0.31819869\n",
      " 0.63859697 0.23012167]\n",
      "28.674660979483352\n",
      "7.566963541139355\n",
      "7.524524852547539\n",
      "7.332207769987582\n",
      "7.481492787421495\n",
      "7.33185789688863\n",
      "7.447409369596921\n",
      "0.09800533496918896\n"
     ]
    }
   ],
   "source": [
    "X_train, X_test, y_train, y_test = train_test_split(X, y, test_size=.2, random_state=1)\n",
    "print(X.shape, y.shape, X_train.shape, X_test.shape, y_train.shape, y_test.shape)\n",
    "\n",
    "sc = StandardScaler()\n",
    "X_train = sc.fit_transform(X_train);\n",
    "\n",
    "X_test = sc.transform(X_test);\n",
    "\n",
    "#initializing the model\n",
    "w = np.random.rand(14)\n",
    "alpha = 0.0001\n",
    "W, cost_history = gradient_descent(X_train, y_train, w, alpha, 1000)\n",
    "\n",
    "# New Values of coeffiecnets\n",
    "print(W)\n",
    "\n",
    "# Final Cost of new B\n",
    "print(cost_history[-1])\n",
    "\n",
    "Y_test_pred = X_test.dot(W)\n",
    "\n",
    "rmse0 =rmse(y_test, Y_test_pred)\n",
    "print(rmse0)\n",
    "\n",
    "w = np.random.rand(14)\n",
    "W1, cost_history= gradient_descent(X_train, y_train, w, .0001, 100);\n",
    "Y_test_pred = X_test.dot(W1)\n",
    "rmse1 = rmse(y_test, Y_test_pred)\n",
    "print(rmse1)\n",
    "\n",
    "w = np.random.rand(14)\n",
    "W2, cost_history= gradient_descent(X_train, y_train, w, .005, 1000);\n",
    "Y_test_pred = X_test.dot(W2)\n",
    "rmse2 = rmse(y_test, Y_test_pred)\n",
    "print(rmse2)\n",
    "\n",
    "w = np.random.rand(14)\n",
    "W3,cost_history = gradient_descent(X_train, y_train, w, .0001, 500);\n",
    "Y_test_pred = X_test.dot(W3)\n",
    "rmse3 = rmse(y_test, Y_test_pred)\n",
    "print(rmse3)\n",
    "\n",
    "w = np.random.rand(14)\n",
    "W4,cost_history = gradient_descent(X_train, y_train, w, 0.001, 10000);\n",
    "Y_test_pred = X_test.dot(W4)\n",
    "rmse4 = rmse(y_test, Y_test_pred)\n",
    "print(rmse4)\n",
    "\n",
    "X = np.vstack((X_train, X_test))\n",
    "y = y_train.append(y_test)\n",
    "X.shape, y.shape\n",
    "\n",
    "avgRMSE2 = (rmse0 + rmse1 + rmse2  + rmse3 + rmse4)/ 5\n",
    "print(avgRMSE2);\n",
    "\n",
    "sdRMSE2 = np.std([rmse0 , rmse1 , rmse2 , rmse3 , rmse4])\n",
    "print(sdRMSE2);\n"
   ]
  },
  {
   "cell_type": "code",
   "execution_count": 286,
   "metadata": {},
   "outputs": [
    {
     "name": "stdout",
     "output_type": "stream",
     "text": [
      "ultimate avg RSME 7.446286559265854\n",
      "ultimate sd RSME 0.10447766072122477\n"
     ]
    }
   ],
   "source": [
    "print(\"ultimate avg RSME\", + (avgRMSE1+avgRMSE2+avgRMSE)/3 )\n",
    "print(\"ultimate sd RSME\", + ((sdRMSE1+sdRMSE2+sdRMSE)/3)) "
   ]
  },
  {
   "cell_type": "markdown",
   "metadata": {},
   "source": [
    "### Task 17: Make an entry in the Kaggle challenge [https://www.kaggle.com/c/csci-ml-s19-pa1/] by joining and submitting the judge-submission-run1.csv file, and please report your Kaggle handle here too.\n",
    "### There is limit of 5 entries each day untile the deadline.\n",
    "### For each of the runs you submit, please report here the RMSE you got (as reported by the Kaggle platform)."
   ]
  },
  {
   "cell_type": "code",
   "execution_count": 295,
   "metadata": {},
   "outputs": [
    {
     "name": "stdout",
     "output_type": "stream",
     "text": [
      "Kaggle user name is jahnavisri\n",
      "Kaggle rmse ----> 7.40737\n"
     ]
    }
   ],
   "source": [
    "\n",
    "print(\"Kaggle user name is jahnavisri\") \n",
    "print(\"Kaggle rmse ----> 7.40737\")\n",
    "\n",
    "\n",
    "\n"
   ]
  },
  {
   "cell_type": "code",
   "execution_count": null,
   "metadata": {},
   "outputs": [],
   "source": []
  }
 ],
 "metadata": {
  "kernelspec": {
   "display_name": "Python 3",
   "language": "python",
   "name": "python3"
  },
  "language_info": {
   "codemirror_mode": {
    "name": "ipython",
    "version": 3
   },
   "file_extension": ".py",
   "mimetype": "text/x-python",
   "name": "python",
   "nbconvert_exporter": "python",
   "pygments_lexer": "ipython3",
   "version": "3.6.5"
  },
  "varInspector": {
   "cols": {
    "lenName": 16,
    "lenType": 16,
    "lenVar": 40
   },
   "kernels_config": {
    "python": {
     "delete_cmd_postfix": "",
     "delete_cmd_prefix": "del ",
     "library": "var_list.py",
     "varRefreshCmd": "print(var_dic_list())"
    },
    "r": {
     "delete_cmd_postfix": ") ",
     "delete_cmd_prefix": "rm(",
     "library": "var_list.r",
     "varRefreshCmd": "cat(var_dic_list()) "
    }
   },
   "types_to_exclude": [
    "module",
    "function",
    "builtin_function_or_method",
    "instance",
    "_Feature"
   ],
   "window_display": false
  }
 },
 "nbformat": 4,
 "nbformat_minor": 2
}
